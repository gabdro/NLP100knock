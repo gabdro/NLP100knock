{
 "cells": [
  {
   "cell_type": "markdown",
   "metadata": {
    "deletable": true,
    "editable": true
   },
   "source": [
    "# 第4章: 形態素解析\n",
    "\n",
    "夏目漱石の小説『吾輩は猫である』の文章（neko.txt）をMeCabを使って形態素解析し，その結果をneko.txt.mecabというファイルに保存せよ．このファイルを用いて，以下の問に対応するプログラムを実装せよ．\n",
    "\n",
    "なお，問題37, 38, 39はmatplotlibもしくはGnuplotを用いるとよい．"
   ]
  },
  {
   "cell_type": "markdown",
   "metadata": {
    "deletable": true,
    "editable": true
   },
   "source": [
    "python上でなぜか実行できなかったので(´･ω･｀)\n",
    "```zsh\n",
    "% mecab neko.txt -o neko.txt.mecab\n",
    "```"
   ]
  },
  {
   "cell_type": "code",
   "execution_count": 2,
   "metadata": {
    "collapsed": false,
    "deletable": true,
    "editable": true
   },
   "outputs": [
    {
     "name": "stdout",
     "output_type": "stream",
     "text": [
      "一\t名詞,数,*,*,*,*,一,イチ,イチ\r\n",
      "EOS\r\n",
      "EOS\r\n",
      "　\t記号,空白,*,*,*,*,　,　,　\r\n",
      "吾輩\t名詞,代名詞,一般,*,*,*,吾輩,ワガハイ,ワガハイ\r\n",
      "は\t助詞,係助詞,*,*,*,*,は,ハ,ワ\r\n",
      "猫\t名詞,一般,*,*,*,*,猫,ネコ,ネコ\r\n",
      "で\t助動詞,*,*,*,特殊・ダ,連用形,だ,デ,デ\r\n",
      "ある\t助動詞,*,*,*,五段・ラ行アル,基本形,ある,アル,アル\r\n",
      "。\t記号,句点,*,*,*,*,。,。,。\r\n"
     ]
    }
   ],
   "source": [
    "!head -n 10 neko.txt.mecab"
   ]
  },
  {
   "cell_type": "markdown",
   "metadata": {
    "deletable": true,
    "editable": true
   },
   "source": [
    "## 30. 形態素解析結果の読み込み\n",
    "形態素解析結果（neko.txt.mecab）を読み込むプログラムを実装せよ．ただし，各形態素は表層形（surface），基本形（base），品詞（pos），品詞細分類1（pos1）をキーとするマッピング型に格納し，1文を形態素（マッピング型）のリストとして表現せよ．第4章の残りの問題では，ここで作ったプログラムを活用せよ．"
   ]
  },
  {
   "cell_type": "code",
   "execution_count": 3,
   "metadata": {
    "collapsed": false,
    "deletable": true,
    "editable": true
   },
   "outputs": [],
   "source": [
    "morphemes=[] #形態素\n",
    "lines=[]\n",
    "\n",
    "for line in open('neko.txt.mecab'):\n",
    "    res=line.split('\\t')\n",
    "    surface =res[0]\n",
    "    \n",
    "    if surface == \"EOS\\n\":\n",
    "        #morphemes=[]\n",
    "        #lines.append(morphemes)\n",
    "        pass\n",
    "        \n",
    "    else:\n",
    "        values = res[1].split(',')\n",
    "        keymap={\n",
    "            \"surface\":surface,\n",
    "            \"base\":values[6],\n",
    "            \"pos\":values[0],\n",
    "            \"pos1\":values[1]\n",
    "        }\n",
    "        morphemes.append(keymap)\n",
    "        "
   ]
  },
  {
   "cell_type": "code",
   "execution_count": 4,
   "metadata": {
    "collapsed": false,
    "deletable": true,
    "editable": true
   },
   "outputs": [
    {
     "name": "stdout",
     "output_type": "stream",
     "text": [
      "surface: 吾輩\n",
      "base: 吾輩\n",
      "pos: 名詞\n",
      "pos1: 代名詞\n"
     ]
    }
   ],
   "source": [
    "print(\"surface: \" +  morphemes[2]['surface'])\n",
    "print(\"base: \" + morphemes[2]['base'])\n",
    "print(\"pos: \" + morphemes[2]['pos'])\n",
    "print(\"pos1: \" + morphemes[2]['pos1'])"
   ]
  },
  {
   "cell_type": "markdown",
   "metadata": {
    "deletable": true,
    "editable": true
   },
   "source": [
    "## 31. 動詞\n",
    "動詞の表層形をすべて抽出せよ．"
   ]
  },
  {
   "cell_type": "code",
   "execution_count": 5,
   "metadata": {
    "collapsed": false,
    "deletable": true,
    "editable": true
   },
   "outputs": [],
   "source": [
    "verb=[]\n",
    "for sentence in morphemes:\n",
    "    if sentence['pos']==\"動詞\":\n",
    "        verb.append(sentence['surface'])"
   ]
  },
  {
   "cell_type": "code",
   "execution_count": 6,
   "metadata": {
    "collapsed": false,
    "deletable": true,
    "editable": true
   },
   "outputs": [
    {
     "data": {
      "text/plain": [
       "['生れ', 'つか', 'し', '泣い', 'し', 'いる', '始め', '見', '聞く', '捕え', '煮']"
      ]
     },
     "execution_count": 6,
     "metadata": {},
     "output_type": "execute_result"
    }
   ],
   "source": [
    "verb[0:11]"
   ]
  },
  {
   "cell_type": "markdown",
   "metadata": {
    "deletable": true,
    "editable": true
   },
   "source": [
    "## 32. 動詞の原形\n",
    "動詞の原形をすべて抽出せよ．"
   ]
  },
  {
   "cell_type": "code",
   "execution_count": 7,
   "metadata": {
    "collapsed": true,
    "deletable": true,
    "editable": true
   },
   "outputs": [],
   "source": [
    "verb_b=[]\n",
    "for sentence in morphemes:\n",
    "    if sentence['pos']==\"動詞\":\n",
    "        verb_b.append(sentence['base'])\n",
    "        #verb.append(sentence['surface'])"
   ]
  },
  {
   "cell_type": "code",
   "execution_count": 8,
   "metadata": {
    "collapsed": false,
    "deletable": true,
    "editable": true
   },
   "outputs": [
    {
     "data": {
      "text/plain": [
       "['生れる', 'つく', 'する', '泣く', 'する', 'いる', '始める', '見る', '聞く', '捕える', '煮る']"
      ]
     },
     "execution_count": 8,
     "metadata": {},
     "output_type": "execute_result"
    }
   ],
   "source": [
    "verb_b[0:11]"
   ]
  },
  {
   "cell_type": "markdown",
   "metadata": {
    "deletable": true,
    "editable": true
   },
   "source": [
    "## 33. サ変名詞\n",
    "サ変接続の名詞をすべて抽出せよ．"
   ]
  },
  {
   "cell_type": "code",
   "execution_count": null,
   "metadata": {
    "collapsed": true
   },
   "outputs": [],
   "source": [
    "res=[]\n",
    "for sentence in morphemes:\n",
    "    if sentence['pos1']==\"サ変接続\":\n",
    "        res.append(sentence['surface'])\n",
    "res[0:10]"
   ]
  },
  {
   "cell_type": "code",
   "execution_count": 9,
   "metadata": {
    "collapsed": false,
    "deletable": true,
    "editable": true
   },
   "outputs": [
    {
     "data": {
      "text/plain": [
       "['見当', '記憶', '話', '装飾', '突起', '運転', '記憶', '分別', '決心', '我慢']"
      ]
     },
     "execution_count": 9,
     "metadata": {},
     "output_type": "execute_result"
    }
   ],
   "source": [
    "res=[]\n",
    "for sentence in morphemes:\n",
    "    if sentence['pos']==\"名詞\":\n",
    "        \n",
    "res[0:10]"
   ]
  },
  {
   "cell_type": "markdown",
   "metadata": {
    "deletable": true,
    "editable": true
   },
   "source": [
    "## 34. 「AのB」\n",
    "2つの名詞が「の」で連結されている名詞句を抽出せよ．"
   ]
  },
  {
   "cell_type": "code",
   "execution_count": 49,
   "metadata": {
    "collapsed": false
   },
   "outputs": [],
   "source": [
    "res=[]\n",
    "for i in range(len(morphemes)-2):\n",
    "    triple=morphemes[i:i+3]\n",
    "    x0 = triple[0]['pos'] == \"名詞\"\n",
    "    x1 = triple[1]['surface'] == \"の\"\n",
    "    x2 = triple[2]['pos'] == \"名詞\"\n",
    "    if x0 and x1 and x2:\n",
    "        res.append([triple[0]['surface']+triple[1]['surface']+triple[2]['surface']])"
   ]
  },
  {
   "cell_type": "code",
   "execution_count": 50,
   "metadata": {
    "collapsed": false
   },
   "outputs": [
    {
     "data": {
      "text/plain": [
       "[['彼の掌'],\n",
       " ['掌の上'],\n",
       " ['書生の顔'],\n",
       " ['はずの顔'],\n",
       " ['顔の真中'],\n",
       " ['穴の中'],\n",
       " ['書生の掌'],\n",
       " ['掌の裏'],\n",
       " ['何の事'],\n",
       " ['肝心の母親']]"
      ]
     },
     "execution_count": 50,
     "metadata": {},
     "output_type": "execute_result"
    }
   ],
   "source": [
    "res[0:10]"
   ]
  },
  {
   "cell_type": "markdown",
   "metadata": {
    "deletable": true,
    "editable": true
   },
   "source": [
    "## 35. 名詞の連接\n",
    "名詞の連接（連続して出現する名詞）を最長一致で抽出せよ．"
   ]
  },
  {
   "cell_type": "code",
   "execution_count": 52,
   "metadata": {
    "collapsed": true
   },
   "outputs": [],
   "source": [
    "tmp=[]\n",
    "res = []\n",
    "count=0\n",
    "max_len=0\n",
    "for sentence in morphemes:\n",
    "    if sentence['pos']==\"名詞\":\n",
    "        count+=1\n",
    "        tmp.append(sentence['surface'])\n",
    "        if max_len < count:\n",
    "            max_len = count\n",
    "            res = tmp\n",
    "    else:\n",
    "        count=0\n",
    "        tmp=[]"
   ]
  },
  {
   "cell_type": "markdown",
   "metadata": {},
   "source": [
    "(´･ω･｀)< これ本当に名詞の連接で最長一致なのか.. 英語だぞ👊"
   ]
  },
  {
   "cell_type": "code",
   "execution_count": 55,
   "metadata": {
    "collapsed": false
   },
   "outputs": [
    {
     "data": {
      "text/plain": [
       "['many', 'a', 'slip', \"'\", 'twixt', 'the', 'cup', 'and', 'the', 'lip']"
      ]
     },
     "execution_count": 55,
     "metadata": {},
     "output_type": "execute_result"
    }
   ],
   "source": [
    "res"
   ]
  },
  {
   "cell_type": "markdown",
   "metadata": {
    "deletable": true,
    "editable": true
   },
   "source": [
    "## 36. 単語の出現頻度\n",
    "文章中に出現する単語とその出現頻度を求め，出現頻度の高い順に並べよ．"
   ]
  },
  {
   "cell_type": "code",
   "execution_count": 63,
   "metadata": {
    "collapsed": true
   },
   "outputs": [],
   "source": [
    "from collections import Counter\n",
    "\n",
    "words=[]\n",
    "for sentence in morphemes:\n",
    "    if sentence['pos'] in ['名詞','副詞','形容詞','動詞']:\n",
    "        words.append(sentence['surface'])"
   ]
  },
  {
   "cell_type": "code",
   "execution_count": 99,
   "metadata": {
    "collapsed": false
   },
   "outputs": [
    {
     "name": "stdout",
     "output_type": "stream",
     "text": [
      "し 2259\n",
      "の 1611\n",
      "いる 1249\n",
      "事 1207\n",
      "する 992\n",
      "もの 981\n",
      "君 973\n",
      "云う 937\n",
      "主人 932\n",
      "ない 765\n",
      "ん 704\n",
      "ある 700\n",
      "よう 696\n",
      "人 602\n",
      "一 554\n",
      "そう 546\n",
      "何 539\n",
      "吾輩 481\n",
      "い 478\n",
      "これ 414\n"
     ]
    }
   ],
   "source": [
    "for word,number in Counter(words).most_common(20):\n",
    "    print(word,number)"
   ]
  },
  {
   "cell_type": "markdown",
   "metadata": {
    "deletable": true,
    "editable": true
   },
   "source": [
    "## 37. 頻度上位10語\n",
    "出現頻度が高い10語とその出現頻度をグラフ（例えば棒グラフなど）で表示せよ．"
   ]
  },
  {
   "cell_type": "code",
   "execution_count": 95,
   "metadata": {
    "collapsed": false
   },
   "outputs": [],
   "source": [
    "w=[]\n",
    "c=[]\n",
    "for word , count in Counter(words).most_common(10):\n",
    "    w.append(word)\n",
    "    c.append(count)"
   ]
  },
  {
   "cell_type": "code",
   "execution_count": 96,
   "metadata": {
    "collapsed": false
   },
   "outputs": [
    {
     "data": {
      "text/plain": [
       "[('し', 2259),\n",
       " ('の', 1611),\n",
       " ('いる', 1249),\n",
       " ('事', 1207),\n",
       " ('する', 992),\n",
       " ('もの', 981),\n",
       " ('君', 973),\n",
       " ('云う', 937),\n",
       " ('主人', 932),\n",
       " ('ない', 765)]"
      ]
     },
     "execution_count": 96,
     "metadata": {},
     "output_type": "execute_result"
    }
   ],
   "source": [
    "Counter(words).most_common(10)"
   ]
  },
  {
   "cell_type": "code",
   "execution_count": 98,
   "metadata": {
    "collapsed": false
   },
   "outputs": [
    {
     "data": {
      "text/plain": [
       "([<matplotlib.axis.XTick at 0x1107c0c88>,\n",
       "  <matplotlib.axis.XTick at 0x1107c0898>,\n",
       "  <matplotlib.axis.XTick at 0x11071d438>,\n",
       "  <matplotlib.axis.XTick at 0x11089c1d0>,\n",
       "  <matplotlib.axis.XTick at 0x11089cba8>,\n",
       "  <matplotlib.axis.XTick at 0x1108a35c0>,\n",
       "  <matplotlib.axis.XTick at 0x1108a3f98>,\n",
       "  <matplotlib.axis.XTick at 0x1108a99b0>,\n",
       "  <matplotlib.axis.XTick at 0x1108af3c8>,\n",
       "  <matplotlib.axis.XTick at 0x1108afda0>],\n",
       " <a list of 10 Text xticklabel objects>)"
      ]
     },
     "execution_count": 98,
     "metadata": {},
     "output_type": "execute_result"
    },
    {
     "data": {
      "image/png": "[encoded data removed]",
      "text/plain": [
       "<matplotlib.figure.Figure at 0x110723e48>"
      ]
     },
     "metadata": {},
     "output_type": "display_data"
    }
   ],
   "source": [
    "import matplotlib.pyplot as plt\n",
    "from matplotlib.font_manager import FontProperties\n",
    "%matplotlib inline\n",
    "plt.bar(range(10),c)\n",
    "plt.xticks(range(10),w)\n",
    "#日本語対応してなくて読めない(´･ω･｀)　辛い"
   ]
  },
  {
   "cell_type": "markdown",
   "metadata": {
    "deletable": true,
    "editable": true
   },
   "source": [
    "## 38. ヒストグラム\n",
    "単語の出現頻度のヒストグラム（横軸に出現頻度，縦軸に出現頻度をとる単語の種類数を棒グラフで表したもの）を描け．"
   ]
  },
  {
   "cell_type": "markdown",
   "metadata": {
    "deletable": true,
    "editable": true
   },
   "source": [
    "## 39. Zipfの法則\n",
    "単語の出現頻度順位を横軸，その出現頻度を縦軸として，両対数グラフをプロットせよ．"
   ]
  },
  {
   "cell_type": "code",
   "execution_count": null,
   "metadata": {
    "collapsed": true,
    "deletable": true,
    "editable": true
   },
   "outputs": [],
   "source": []
  }
 ],
 "metadata": {
  "kernelspec": {
   "display_name": "Python 3",
   "language": "python",
   "name": "python3"
  },
  "language_info": {
   "codemirror_mode": {
    "name": "ipython",
    "version": 3
   },
   "file_extension": ".py",
   "mimetype": "text/x-python",
   "name": "python",
   "nbconvert_exporter": "python",
   "pygments_lexer": "ipython3",
   "version": "3.6.0"
  }
 },
 "nbformat": 4,
 "nbformat_minor": 2
}
